{
 "cells": [
  {
   "cell_type": "code",
   "execution_count": 1,
   "id": "de10c061",
   "metadata": {},
   "outputs": [],
   "source": [
    "import time\n",
    "import pandas as pd\n",
    "import numpy as np\n",
    "import random\n",
    "from selenium import webdriver\n",
    "from selenium.webdriver.chrome.options import Options\n",
    "from selenium.webdriver.common.keys import Keys\n",
    "from webdriver_manager.chrome import ChromeDriverManager\n",
    "from selenium.webdriver.common.by import By\n",
    "from selenium.common.exceptions import NoSuchElementException\n",
    "from selenium.webdriver.chrome.service import Service\n",
    "from selenium.webdriver.support.ui import Select\n",
    "from selenium.webdriver.support.ui import WebDriverWait\n",
    "from selenium.webdriver.support import expected_conditions as EC"
   ]
  },
  {
   "cell_type": "markdown",
   "id": "9c3d02af",
   "metadata": {},
   "source": [
    "# Installing Modules"
   ]
  },
  {
   "cell_type": "code",
   "execution_count": 2,
   "id": "6507e991",
   "metadata": {},
   "outputs": [],
   "source": [
    "#!pip install selenium\n",
    "#!pip install webdriver_manager\n",
    "#!pip install pandas \n",
    "#!pip install numpy"
   ]
  },
  {
   "cell_type": "markdown",
   "id": "85f7b579",
   "metadata": {},
   "source": [
    "# Scraping the data and links of all the states\n",
    "1. Target website =  http://www.city-data.com\n",
    "2. Target class: cities_list"
   ]
  },
  {
   "cell_type": "code",
   "execution_count": 3,
   "id": "8b91b62f",
   "metadata": {},
   "outputs": [],
   "source": [
    "options = Options()\n",
    "options.add_argument('--disable-blink-features=AutomationControlled')\n",
    "#driver = webdriver.Chrome(service=Service(ChromeDriverManager().install()),options=options) \n",
    "driver = webdriver.Chrome()\n",
    "driver.maximize_window()\n",
    "url = 'http://www.city-data.com'\n",
    "driver.get(url)\n",
    "time.sleep(5)\n",
    "states = driver.find_elements(By.CLASS_NAME,'cities_list')\n",
    "\n",
    "state_links = []\n",
    "state_names = []\n",
    "for i in states:\n",
    "    state_links.append(i.get_attribute('href'))\n",
    "    state_names.append(i.text)\n",
    "    \n",
    "driver.close()"
   ]
  },
  {
   "cell_type": "code",
   "execution_count": 4,
   "id": "3585112d",
   "metadata": {},
   "outputs": [
    {
     "name": "stdout",
     "output_type": "stream",
     "text": [
      "Alabama  :  http://www.city-data.com/city/Alabama.html\n",
      "Alaska  :  http://www.city-data.com/city/Alaska.html\n",
      "Arkansas  :  http://www.city-data.com/city/Arkansas.html\n",
      "Arizona  :  http://www.city-data.com/city/Arizona.html\n",
      "California  :  http://www.city-data.com/city/California.html\n",
      "Colorado  :  http://www.city-data.com/city/Colorado.html\n",
      "Connecticut  :  http://www.city-data.com/city/Connecticut.html\n",
      "Delaware  :  http://www.city-data.com/city/Delaware.html\n",
      "District of Columbia  :  http://www.city-data.com/city/District-of-Columbia.html\n",
      "Florida  :  http://www.city-data.com/city/Florida.html\n",
      "Georgia  :  http://www.city-data.com/city/Georgia.html\n",
      "Hawaii  :  http://www.city-data.com/city/Hawaii.html\n",
      "Idaho  :  http://www.city-data.com/city/Idaho.html\n",
      "Illinois  :  http://www.city-data.com/city/Illinois.html\n",
      "Indiana  :  http://www.city-data.com/city/Indiana.html\n",
      "Iowa  :  http://www.city-data.com/city/Iowa.html\n",
      "Kansas  :  http://www.city-data.com/city/Kansas.html\n",
      "Kentucky  :  http://www.city-data.com/city/Kentucky.html\n",
      "Louisiana  :  http://www.city-data.com/city/Louisiana.html\n",
      "Maine  :  http://www.city-data.com/city/Maine.html\n",
      "Maryland  :  http://www.city-data.com/city/Maryland.html\n",
      "Massachusetts  :  http://www.city-data.com/city/Massachusetts.html\n",
      "Michigan  :  http://www.city-data.com/city/Michigan.html\n",
      "Minnesota  :  http://www.city-data.com/city/Minnesota.html\n",
      "Mississippi  :  http://www.city-data.com/city/Mississippi.html\n",
      "Missouri  :  http://www.city-data.com/city/Missouri.html\n",
      "Montana  :  http://www.city-data.com/city/Montana.html\n",
      "Nebraska  :  http://www.city-data.com/city/Nebraska.html\n",
      "Nevada  :  http://www.city-data.com/city/Nevada.html\n",
      "New Hampshire  :  http://www.city-data.com/city/New-Hampshire.html\n",
      "New Jersey  :  http://www.city-data.com/city/New-Jersey.html\n",
      "New Mexico  :  http://www.city-data.com/city/New-Mexico.html\n",
      "New York  :  http://www.city-data.com/city/New-York.html\n",
      "North Carolina  :  http://www.city-data.com/city/North-Carolina.html\n",
      "North Dakota  :  http://www.city-data.com/city/North-Dakota.html\n",
      "Ohio  :  http://www.city-data.com/city/Ohio.html\n",
      "Oklahoma  :  http://www.city-data.com/city/Oklahoma.html\n",
      "Oregon  :  http://www.city-data.com/city/Oregon.html\n",
      "Pennsylvania  :  http://www.city-data.com/city/Pennsylvania.html\n",
      "Rhode Island  :  http://www.city-data.com/city/Rhode-Island.html\n",
      "South Carolina  :  http://www.city-data.com/city/South-Carolina.html\n",
      "South Dakota  :  http://www.city-data.com/city/South-Dakota.html\n",
      "Tennessee  :  http://www.city-data.com/city/Tennessee.html\n",
      "Texas  :  http://www.city-data.com/city/Texas.html\n",
      "Utah  :  http://www.city-data.com/city/Utah.html\n",
      "Vermont  :  http://www.city-data.com/city/Vermont.html\n",
      "Virginia  :  http://www.city-data.com/city/Virginia.html\n",
      "Washington  :  http://www.city-data.com/city/Washington.html\n",
      "West Virginia  :  http://www.city-data.com/city/West-Virginia.html\n",
      "Wisconsin  :  http://www.city-data.com/city/Wisconsin.html\n",
      "Wyoming  :  http://www.city-data.com/city/Wyoming.html\n"
     ]
    }
   ],
   "source": [
    "state_links = state_links[52:-1]\n",
    "state_names = state_names[52:-1]\n",
    "\n",
    "for i in range (0,len(state_links)):\n",
    "    print(state_names[i],\" : \",state_links[i])"
   ]
  },
  {
   "cell_type": "markdown",
   "id": "4a06a623",
   "metadata": {},
   "source": [
    "# Data sets\n",
    "Create a data set with the names and population all of the cities of every state."
   ]
  },
  {
   "cell_type": "code",
   "execution_count": 8,
   "id": "ac9813c4",
   "metadata": {},
   "outputs": [],
   "source": [
    "options = Options()\n",
    "options.add_argument('--disable-blink-features=AutomationControlled')\n",
    "driver = webdriver.Chrome()\n",
    "driver.maximize_window()\n",
    "\n",
    "stateName =[]\n",
    "citylist = []\n",
    "populations = []\n",
    "\n",
    "for state in range (0, len(state_links)):\n",
    "    driver.get(state_links[state])\n",
    "    time.sleep(10)\n",
    "\n",
    "    # Drop down\n",
    "    dropdown_element = driver.find_element(By.ID, 'citySize')\n",
    "    dropdown = Select(dropdown_element)\n",
    "    dropdown.select_by_value('all')\n",
    "\n",
    "     # Waiting for table to load\n",
    "    wait = WebDriverWait(driver, 10)\n",
    "    table = wait.until(EC.presence_of_element_located((By.ID, 'cityTAB'))) \n",
    "    \n",
    "    # Accessing rows then cells and extracting name and population\n",
    "    rows = table.find_elements(By.TAG_NAME,'tr')        \n",
    "    for row in rows:\n",
    "        cells = row.find_elements(By.TAG_NAME,'td')\n",
    "        if len(cells) == 3: \n",
    "            city = cells[1].text.replace(', AL', '')\n",
    "            population = cells[2].text.replace(',', '')\n",
    "\n",
    "            stateName.append(state_names[state])\n",
    "            citylist.append(city)\n",
    "            populations.append(int(population))\n",
    "        \n",
    "driver.close()"
   ]
  },
  {
   "cell_type": "code",
   "execution_count": 9,
   "id": "de4e6db7",
   "metadata": {},
   "outputs": [
    {
     "name": "stdout",
     "output_type": "stream",
     "text": [
      "         State                           City  Population\n",
      "0      Alabama                      Abbeville        2624\n",
      "1      Alabama                       Abernant        7599\n",
      "2      Alabama                     Adamsville        4435\n",
      "3      Alabama                        Addison         749\n",
      "4      Alabama                          Akron         338\n",
      "...        ...                            ...         ...\n",
      "28790  Wyoming                     Wilson, WY        1482\n",
      "28791  Wyoming                 Wind River, WY       24157\n",
      "28792  Wyoming                        Worland        5366\n",
      "28793  Wyoming                     Wright, WY        1847\n",
      "28794  Wyoming  Yellowstone National Park, WY         377\n",
      "\n",
      "[28795 rows x 3 columns]\n"
     ]
    }
   ],
   "source": [
    "data = {\n",
    "    \"State\":stateName,\n",
    "    \"City\":citylist,\n",
    "    \"Population\":populations\n",
    "}\n",
    "\n",
    "# Create the DataFrame\n",
    "df = pd.DataFrame(data)\n",
    "\n",
    "# Print the DataFrame\n",
    "print(df)"
   ]
  },
  {
   "cell_type": "markdown",
   "id": "a29d12c5",
   "metadata": {},
   "source": [
    "## Save to CSV"
   ]
  },
  {
   "cell_type": "code",
   "execution_count": 12,
   "id": "062620eb",
   "metadata": {},
   "outputs": [],
   "source": [
    "df.to_csv('cities_data.csv', index=False)"
   ]
  },
  {
   "cell_type": "markdown",
   "id": "9913ee81",
   "metadata": {},
   "source": [
    "## Save to EXCEL"
   ]
  },
  {
   "cell_type": "code",
   "execution_count": 13,
   "id": "51dc5cfa",
   "metadata": {},
   "outputs": [],
   "source": [
    "df.to_excel('cities_data.xlsx', index=False)"
   ]
  },
  {
   "cell_type": "markdown",
   "id": "eec91c9a",
   "metadata": {},
   "source": [
    "## Save to JSON"
   ]
  },
  {
   "cell_type": "code",
   "execution_count": 14,
   "id": "22761e02",
   "metadata": {},
   "outputs": [],
   "source": [
    "df.to_json('cities_data.json', orient='records', lines=True)"
   ]
  }
 ],
 "metadata": {
  "kernelspec": {
   "display_name": "Python 3 (ipykernel)",
   "language": "python",
   "name": "python3"
  },
  "language_info": {
   "codemirror_mode": {
    "name": "ipython",
    "version": 3
   },
   "file_extension": ".py",
   "mimetype": "text/x-python",
   "name": "python",
   "nbconvert_exporter": "python",
   "pygments_lexer": "ipython3",
   "version": "3.11.3"
  }
 },
 "nbformat": 4,
 "nbformat_minor": 5
}
